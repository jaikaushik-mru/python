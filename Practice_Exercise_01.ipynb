{
 "cells": [
  {
   "cell_type": "markdown",
   "metadata": {},
   "source": [
    "Basics Of Python 1"
   ]
  },
  {
   "cell_type": "markdown",
   "metadata": {},
   "source": [
    "Q1. What is Python?\n"
   ]
  },
  {
   "cell_type": "markdown",
   "metadata": {},
   "source": [
    "Ans. Python is a programming langauge for web development, scripting, software development and mathematical operations."
   ]
  },
  {
   "cell_type": "markdown",
   "metadata": {},
   "source": [
    "Q2. Give any five areas where python can be used."
   ]
  },
  {
   "cell_type": "markdown",
   "metadata": {},
   "source": [
    "Ans. 1. Data Science , 2. Artificial Intelligence , 3. Machine Learning , 4. Medicine and pharmacology , 5. Game development"
   ]
  },
  {
   "cell_type": "markdown",
   "metadata": {},
   "source": [
    "Q3. Write a program to check if 10>2 or not."
   ]
  },
  {
   "cell_type": "code",
   "execution_count": 1,
   "metadata": {},
   "outputs": [
    {
     "name": "stdout",
     "output_type": "stream",
     "text": [
      "True\n"
     ]
    }
   ],
   "source": [
    "print (10>2)"
   ]
  },
  {
   "cell_type": "markdown",
   "metadata": {},
   "source": [
    "Q4. Print variable x,y,z having data types integer and boolean."
   ]
  },
  {
   "cell_type": "code",
   "execution_count": 2,
   "metadata": {},
   "outputs": [
    {
     "name": "stdout",
     "output_type": "stream",
     "text": [
      "12   12.23   True\n"
     ]
    }
   ],
   "source": [
    "x=12\n",
    "y=12.23\n",
    "z=True\n",
    "print(x,\" \",y,\" \",z)"
   ]
  },
  {
   "cell_type": "markdown",
   "metadata": {},
   "source": [
    "Q5. Print three variables x,y and z using the assignment with multiple values."
   ]
  },
  {
   "cell_type": "code",
   "execution_count": 3,
   "metadata": {},
   "outputs": [
    {
     "name": "stdout",
     "output_type": "stream",
     "text": [
      "12   12.23   True\n"
     ]
    }
   ],
   "source": [
    "x,y,z=12,12.23,True\n",
    "print(x,\" \",y,\" \",z)"
   ]
  },
  {
   "cell_type": "markdown",
   "metadata": {},
   "source": [
    "Q6. Comment the Q1 & Q2 with their respective questions."
   ]
  },
  {
   "cell_type": "code",
   "execution_count": 4,
   "metadata": {},
   "outputs": [],
   "source": [
    "# What is python?\n",
    "# Give any five areas where python can be used."
   ]
  },
  {
   "cell_type": "markdown",
   "metadata": {},
   "source": [
    "Q7. Print the data type of the variable defined in Q2?"
   ]
  },
  {
   "cell_type": "code",
   "execution_count": 5,
   "metadata": {},
   "outputs": [
    {
     "name": "stdout",
     "output_type": "stream",
     "text": [
      "Data type of x is  <class 'int'>\n",
      "Data type of y is  <class 'float'>\n",
      "Data type of z is  <class 'bool'>\n"
     ]
    }
   ],
   "source": [
    "x,y,z=12,12.23,True\n",
    "print(\"Data type of x is \",type(x))\n",
    "print(\"Data type of y is \",type(y))\n",
    "print(\"Data type of z is \",type(z))"
   ]
  },
  {
   "cell_type": "markdown",
   "metadata": {},
   "source": [
    "Q8. Print the variables fulfilling the criteria a,b,c,d of variable name."
   ]
  },
  {
   "cell_type": "code",
   "execution_count": 7,
   "metadata": {},
   "outputs": [
    {
     "name": "stdout",
     "output_type": "stream",
     "text": [
      "1   23   42   32\n"
     ]
    }
   ],
   "source": [
    "abcd=1\n",
    "a_123=23\n",
    "_23as=42\n",
    "A_df=32\n",
    "print(abcd,\" \",a_123,\" \",_23as,\" \",A_df)"
   ]
  },
  {
   "cell_type": "markdown",
   "metadata": {},
   "source": [
    "Q9. Printing multiple values. "
   ]
  },
  {
   "cell_type": "code",
   "execution_count": 8,
   "metadata": {},
   "outputs": [
    {
     "name": "stdout",
     "output_type": "stream",
     "text": [
      "12   12.23   True\n"
     ]
    }
   ],
   "source": [
    "x,y,z=12,12.23,True\n",
    "print(x,\" \",y,\" \",z)"
   ]
  },
  {
   "cell_type": "markdown",
   "metadata": {},
   "source": [
    "Q10. Print the data types for x=\"hello\", x=20, ............, {1:\"apple\",2:\"mango\"}"
   ]
  },
  {
   "cell_type": "code",
   "execution_count": 9,
   "metadata": {},
   "outputs": [
    {
     "name": "stdout",
     "output_type": "stream",
     "text": [
      "<class 'int'>\n",
      "<class 'str'>\n",
      "<class 'float'>\n",
      "<class 'list'>\n",
      "<class 'tuple'>\n",
      "<class 'range'>\n",
      "<class 'dict'>\n"
     ]
    }
   ],
   "source": [
    "x=20\n",
    "print(type(x))\n",
    "x=\"hello\"\n",
    "print(type(x))\n",
    "x=20.5\n",
    "print(type(x))\n",
    "x=[\"a\",\"b\",\"c\"]\n",
    "print(type(x))\n",
    "x=(\"a\",\"b\",\"c\")\n",
    "print(type(x))\n",
    "x=range(6)\n",
    "print(type(x))\n",
    "x={1:\"apple\",2:\"mango\"}\n",
    "print(type(x))"
   ]
  },
  {
   "cell_type": "markdown",
   "metadata": {},
   "source": [
    "Q11. Print 3,4 & 5th character from the last."
   ]
  },
  {
   "cell_type": "code",
   "execution_count": 11,
   "metadata": {},
   "outputs": [
    {
     "name": "stdout",
     "output_type": "stream",
     "text": [
      "r\n",
      "o\n",
      "w\n"
     ]
    }
   ],
   "source": [
    "x=\"helloworld\"\n",
    "print(x[-3])\n",
    "print(x[-4])\n",
    "print(x[-5])"
   ]
  },
  {
   "cell_type": "markdown",
   "metadata": {},
   "source": [
    "Q12. Print 3,4 & 5th character from beginning."
   ]
  },
  {
   "cell_type": "code",
   "execution_count": 12,
   "metadata": {},
   "outputs": [
    {
     "name": "stdout",
     "output_type": "stream",
     "text": [
      "l\n",
      "l\n",
      "o\n"
     ]
    }
   ],
   "source": [
    "x=\"helloworld\"\n",
    "print(x[2])\n",
    "print(x[3])\n",
    "print(x[4])"
   ]
  },
  {
   "cell_type": "code",
   "execution_count": null,
   "metadata": {},
   "outputs": [],
   "source": []
  }
 ],
 "metadata": {
  "kernelspec": {
   "display_name": "Python 3",
   "language": "python",
   "name": "python3"
  },
  "language_info": {
   "codemirror_mode": {
    "name": "ipython",
    "version": 3
   },
   "file_extension": ".py",
   "mimetype": "text/x-python",
   "name": "python",
   "nbconvert_exporter": "python",
   "pygments_lexer": "ipython3",
   "version": "3.8.5"
  }
 },
 "nbformat": 4,
 "nbformat_minor": 4
}
