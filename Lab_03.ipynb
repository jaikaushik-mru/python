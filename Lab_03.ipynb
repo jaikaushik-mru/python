{
 "cells": [
  {
   "cell_type": "markdown",
   "metadata": {},
   "source": [
    "### Lab -- 03"
   ]
  },
  {
   "cell_type": "markdown",
   "metadata": {},
   "source": [
    "Q1. Write a python program to demonstrate while loop with else statement."
   ]
  },
  {
   "cell_type": "code",
   "execution_count": 1,
   "metadata": {},
   "outputs": [
    {
     "name": "stdout",
     "output_type": "stream",
     "text": [
      "1\n",
      "2\n",
      "3\n",
      "4\n",
      "5\n",
      "6\n",
      "7\n",
      "8\n",
      "9\n",
      "10\n",
      "Looping is completed.\n"
     ]
    }
   ],
   "source": [
    "i=1\n",
    "n=10\n",
    "while i<=n:\n",
    "    print(i)\n",
    "    i=i+1\n",
    "else:\n",
    "    print(\"Looping is completed.\")"
   ]
  },
  {
   "cell_type": "markdown",
   "metadata": {},
   "source": [
    "Q2. Write a python program to print 1st 5 even numbers (use break statement)."
   ]
  },
  {
   "cell_type": "code",
   "execution_count": 32,
   "metadata": {},
   "outputs": [],
   "source": [
    "i=1\n",
    "while i<=10:\n",
    "    if i%2==0:\n",
    "        print(i)\n",
    "    else:\n",
    "        break\n",
    "    i=i+1"
   ]
  },
  {
   "cell_type": "markdown",
   "metadata": {},
   "source": [
    "Q3. Write a python rpogram to print 1st four even numbers(use continue statament)."
   ]
  },
  {
   "cell_type": "code",
   "execution_count": 20,
   "metadata": {},
   "outputs": [
    {
     "name": "stdout",
     "output_type": "stream",
     "text": [
      "2\n",
      "4\n",
      "6\n",
      "8\n"
     ]
    }
   ],
   "source": [
    "for i in range(1,9):\n",
    "    if i%2==0:\n",
    "        print(i)\n",
    "        \n",
    "    else:\n",
    "        continue   "
   ]
  },
  {
   "cell_type": "markdown",
   "metadata": {},
   "source": [
    "Q4. Write a python program to demonstrate pass statements."
   ]
  },
  {
   "cell_type": "code",
   "execution_count": 33,
   "metadata": {},
   "outputs": [
    {
     "name": "stdout",
     "output_type": "stream",
     "text": [
      "1\n",
      "3\n",
      "5\n",
      "7\n",
      "9\n"
     ]
    }
   ],
   "source": [
    "for i in range(1,11):\n",
    "    if i%2==0:\n",
    "        pass\n",
    "    else:\n",
    "        print(i)"
   ]
  },
  {
   "cell_type": "markdown",
   "metadata": {},
   "source": [
    "Q5. Write a python program to calculate the length of a string."
   ]
  },
  {
   "cell_type": "code",
   "execution_count": 34,
   "metadata": {},
   "outputs": [
    {
     "name": "stdout",
     "output_type": "stream",
     "text": [
      "Size of string is:  13\n"
     ]
    }
   ],
   "source": [
    "a=\"pythonprogram\"\n",
    "count=0\n",
    "for i in a:\n",
    "    count=count+1\n",
    "print(\"Size of string is: \",count)"
   ]
  },
  {
   "cell_type": "markdown",
   "metadata": {},
   "source": [
    "Q6. Write a python program to count the number of characters(character frequency) in a string."
   ]
  },
  {
   "cell_type": "code",
   "execution_count": 35,
   "metadata": {},
   "outputs": [
    {
     "name": "stdout",
     "output_type": "stream",
     "text": [
      "p  :  2\n",
      "y  :  1\n",
      "t  :  1\n",
      "h  :  1\n",
      "o  :  2\n",
      "n  :  1\n",
      "r  :  2\n",
      "g  :  1\n",
      "a  :  1\n",
      "m  :  1\n"
     ]
    }
   ],
   "source": [
    "a=\"pythonprogram\"\n",
    "s=list(a)\n",
    "l=[]\n",
    "for j in s:\n",
    "    if j not in l:\n",
    "       l.append(j)\n",
    "       count=0\n",
    "       for i in range(len(s)):\n",
    "         if j==s[i]:\n",
    "           count+=1\n",
    "       print(j,\" : \",count)"
   ]
  },
  {
   "cell_type": "markdown",
   "metadata": {},
   "source": [
    "Q7. Write a python program to get a string made of the first 2 and the last 2 characters from a given string. If the string length is less than 2, return instead of the empty string."
   ]
  },
  {
   "cell_type": "code",
   "execution_count": 50,
   "metadata": {},
   "outputs": [
    {
     "name": "stdout",
     "output_type": "stream",
     "text": [
      "Enter a string:pythonprogram\n",
      "pyam\n"
     ]
    }
   ],
   "source": [
    "a=input(\"Enter a string:\")\n",
    "if len(a)<=2:\n",
    "    print (a)\n",
    "else:\n",
    "    print(a[0:2]+a[-2:])"
   ]
  },
  {
   "cell_type": "markdown",
   "metadata": {},
   "source": [
    "Q8. Write a python program to get a string from a given string where all occurences of its first character have been changed to \"$\", except the first character itself."
   ]
  },
  {
   "cell_type": "code",
   "execution_count": 57,
   "metadata": {},
   "outputs": [
    {
     "name": "stdout",
     "output_type": "stream",
     "text": [
      "python$rogram\n"
     ]
    }
   ],
   "source": [
    "s=\"pythonprogram\"\n",
    "c=s[0]  \n",
    "l=len(s)  \n",
    "s=s.replace(c,'$')  \n",
    "s=c+s[1:]   \n",
    "print(s)  "
   ]
  },
  {
   "cell_type": "markdown",
   "metadata": {},
   "source": [
    "Q9. Write a python program to get a single string from two given strings, separated by a space and swap the first two characters of each string."
   ]
  },
  {
   "cell_type": "code",
   "execution_count": 61,
   "metadata": {},
   "outputs": [
    {
     "name": "stdout",
     "output_type": "stream",
     "text": [
      "prthon pyogram\n"
     ]
    }
   ],
   "source": [
    "a,b=\"python\",\"program\"\n",
    "n_a=b[:2]+a[2:]\n",
    "n_b=a[:2]+b[2:]\n",
    "print(n_a+' '+n_b)"
   ]
  },
  {
   "cell_type": "markdown",
   "metadata": {},
   "source": [
    "Q10. Write a python program to add \"-ing\" at the end of a given string (length should be at least 3). If the given string already ends with '-ing' then add \"-ly\" instead. If the string length of the given string is less than 3, leave it unchanged."
   ]
  },
  {
   "cell_type": "code",
   "execution_count": 62,
   "metadata": {},
   "outputs": [
    {
     "name": "stdout",
     "output_type": "stream",
     "text": [
      "supplying\n"
     ]
    }
   ],
   "source": [
    "a='supply'\n",
    "if len(a)<3:\n",
    "    print(a)\n",
    "elif a[-3:]==\"ing\":\n",
    "    print(a+\"ly\")\n",
    "else:\n",
    "    print(a+\"ing\")"
   ]
  },
  {
   "cell_type": "code",
   "execution_count": null,
   "metadata": {},
   "outputs": [],
   "source": []
  }
 ],
 "metadata": {
  "kernelspec": {
   "display_name": "Python 3",
   "language": "python",
   "name": "python3"
  },
  "language_info": {
   "codemirror_mode": {
    "name": "ipython",
    "version": 3
   },
   "file_extension": ".py",
   "mimetype": "text/x-python",
   "name": "python",
   "nbconvert_exporter": "python",
   "pygments_lexer": "ipython3",
   "version": "3.8.5"
  }
 },
 "nbformat": 4,
 "nbformat_minor": 4
}
