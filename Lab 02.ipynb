{
 "cells": [
  {
   "cell_type": "markdown",
   "metadata": {},
   "source": [
    "### Lab - - 02"
   ]
  },
  {
   "cell_type": "markdown",
   "metadata": {},
   "source": [
    "Q1. Check whether a number is even or odd."
   ]
  },
  {
   "cell_type": "code",
   "execution_count": 9,
   "metadata": {},
   "outputs": [
    {
     "name": "stdout",
     "output_type": "stream",
     "text": [
      "Enter a number34\n",
      "34  Entered number is even.\n"
     ]
    }
   ],
   "source": [
    "a=int(input(\"Enter a number\"))\n",
    "if a%2==0:\n",
    "    print(a,\" Entered number is even.\")\n",
    "else:\n",
    "    print(a,\"Entered number is odd.\")"
   ]
  },
  {
   "cell_type": "markdown",
   "metadata": {},
   "source": [
    "Q2. Check whether an entered year is leap year or not."
   ]
  },
  {
   "cell_type": "code",
   "execution_count": 11,
   "metadata": {},
   "outputs": [
    {
     "name": "stdout",
     "output_type": "stream",
     "text": [
      "Enter a year:2020\n",
      "2020  is a leap year.\n"
     ]
    }
   ],
   "source": [
    "a=int(input(\"Enter a year:\"))\n",
    "if a%4==0:\n",
    "    print(a,\" is a leap year.\")\n",
    "if a%\n",
    "else:\n",
    "    print(a,\" is a normal year.\")"
   ]
  },
  {
   "cell_type": "markdown",
   "metadata": {},
   "source": [
    "Q3. Write a program to check whether a character is vowel or consonants."
   ]
  },
  {
   "cell_type": "code",
   "execution_count": 23,
   "metadata": {},
   "outputs": [
    {
     "name": "stdout",
     "output_type": "stream",
     "text": [
      "Enter a character:d\n",
      "d  is a consonant.\n"
     ]
    }
   ],
   "source": [
    "a=input(\"Enter a character:\")\n",
    "if (a==\"a\" or a==\"e\" or a==\"i\" or a==\"o\" or a==\"u\"):\n",
    "    print(a,\" is a vowel.\")\n",
    "elif (a==\"A\" or a==\"E\" or a==\"I\" or a==\"O\" or a==\"U\"):\n",
    "    print(a,\" is a vowel.\")\n",
    "else:\n",
    "    print(a,\" is a consonant.\")"
   ]
  },
  {
   "cell_type": "markdown",
   "metadata": {},
   "source": [
    "Q4. Write a program to find the smallest of two numbers."
   ]
  },
  {
   "cell_type": "code",
   "execution_count": 38,
   "metadata": {},
   "outputs": [
    {
     "name": "stdout",
     "output_type": "stream",
     "text": [
      "Enter two numbers:12 12\n",
      "12  &  12  both are equal.\n"
     ]
    }
   ],
   "source": [
    "a,b=input(\"Enter two numbers:\").split()\n",
    "x=int(a)\n",
    "y=int(b)\n",
    "if x<y:\n",
    "    print(x,\" is smaller\")\n",
    "elif y<x:\n",
    "    print(y,\" is smaller.\")\n",
    "else:\n",
    "    print(x,\" & \",y,\" both are equal.\")"
   ]
  },
  {
   "cell_type": "markdown",
   "metadata": {},
   "source": [
    "Q5. Find the factorial of a number."
   ]
  },
  {
   "cell_type": "code",
   "execution_count": 43,
   "metadata": {},
   "outputs": [
    {
     "name": "stdout",
     "output_type": "stream",
     "text": [
      "Enter a number:6\n",
      "720  is the factorial of  6\n"
     ]
    }
   ],
   "source": [
    "a=int(input(\"Enter a number:\"))\n",
    "x=1\n",
    "for i in range(1,a+1):\n",
    "    x=x*i\n",
    "    \n",
    "print(x,\" is the factorial of \",a)"
   ]
  },
  {
   "cell_type": "markdown",
   "metadata": {},
   "source": [
    "Q6. Write a program to print this pattern.\n"
   ]
  },
  {
   "cell_type": "code",
   "execution_count": 4,
   "metadata": {},
   "outputs": [
    {
     "name": "stdout",
     "output_type": "stream",
     "text": [
      "   * \r\n",
      "  * * \r\n",
      " * * * \r\n",
      "* * * * \r\n"
     ]
    }
   ],
   "source": [
    "n=4\n",
    "k = n - 1\n",
    "for i in range(0, n):\n",
    "    for j in range(0, k):\n",
    "        print(end=\" \")\n",
    "    k = k - 1\n",
    "    for j in range(0, i+1):         \n",
    "        print(\"* \", end=\"\")     \n",
    "    print(\"\\r\")"
   ]
  },
  {
   "cell_type": "markdown",
   "metadata": {},
   "source": [
    "Q7. Write a program to print this series: 1 1 2 3 5 8 13"
   ]
  },
  {
   "cell_type": "code",
   "execution_count": 10,
   "metadata": {},
   "outputs": [
    {
     "name": "stdout",
     "output_type": "stream",
     "text": [
      "1 1 2 3 5 8 13 "
     ]
    }
   ],
   "source": [
    "n=7\n",
    "a=0\n",
    "b=1\n",
    "sum=0\n",
    "count=1\n",
    "while(count <= n):\n",
    "  count+=1\n",
    "  a=b\n",
    "  b=sum\n",
    "  sum=a+b\n",
    "  print(sum, end = \" \")"
   ]
  },
  {
   "cell_type": "markdown",
   "metadata": {},
   "source": [
    "Q8. Check whether a number is prime or not."
   ]
  },
  {
   "cell_type": "code",
   "execution_count": 11,
   "metadata": {},
   "outputs": [
    {
     "name": "stdout",
     "output_type": "stream",
     "text": [
      "Enter a number: 2\n",
      "2 is a prime number\n"
     ]
    }
   ],
   "source": [
    "num = int(input(\"Enter a number: \"))    \n",
    "if num > 1:  \n",
    "   for i in range(2,num):  \n",
    "       if (num % i) == 0:  \n",
    "           print(num,\"is not a prime number\")  \n",
    "           print(i,\"times\",num//i,\"is\",num)  \n",
    "           break  \n",
    "   else:  \n",
    "       print(num,\"is a prime number\")          \n",
    "else:  \n",
    "   print(num,\"is not a prime number\")  "
   ]
  },
  {
   "cell_type": "markdown",
   "metadata": {},
   "source": [
    "Q9. Make a Simple Calculator."
   ]
  },
  {
   "cell_type": "code",
   "execution_count": null,
   "metadata": {},
   "outputs": [],
   "source": [
    "print(\"Press 1 for addition.\")\n",
    "print(\"Press 2 for subtraction.\")\n",
    "print(\"Press 3 for multiplication.\")\n",
    "print(\"Press 4 for division.\")\n",
    "print(\"Press 5 to exit.\")\n",
    "a=int(input(\"Enter your choice:\"))\n",
    "while True:\n",
    "    if a==1:\n",
    "        x=int(input(\"Enter first number:\"))\n",
    "        y=int(input(\"Enter second number:\"))\n",
    "        print(\"Addition: \",x+y)\n",
    "    elif a==2:\n",
    "        x=int(input(\"Enter first number:\"))\n",
    "        y=int(input(\"Enter second number:\"))\n",
    "        print(\"Subtraction: \",x-y)\n",
    "    elif a==3:\n",
    "        x=int(input(\"Enter first number:\"))\n",
    "        y=int(input(\"Enter second number:\"))\n",
    "        print(\"Multiplication: \",x*y)\n",
    "    elif a==4:\n",
    "        x=int(input(\"Enter first number:\"))\n",
    "        y=int(input(\"Enter second number:\"))\n",
    "        print(\"Division: \",x/y)\n",
    "    elif a==5:\n",
    "        break\n",
    "    else:\n",
    "        print(\"Enter a valid choice.\")"
   ]
  },
  {
   "cell_type": "code",
   "execution_count": null,
   "metadata": {},
   "outputs": [],
   "source": []
  }
 ],
 "metadata": {
  "kernelspec": {
   "display_name": "Python 3",
   "language": "python",
   "name": "python3"
  },
  "language_info": {
   "codemirror_mode": {
    "name": "ipython",
    "version": 3
   },
   "file_extension": ".py",
   "mimetype": "text/x-python",
   "name": "python",
   "nbconvert_exporter": "python",
   "pygments_lexer": "ipython3",
   "version": "3.8.5"
  }
 },
 "nbformat": 4,
 "nbformat_minor": 4
}
