{
 "cells": [
  {
   "cell_type": "markdown",
   "metadata": {},
   "source": [
    "### Lab - 08 (UML, Object-Oriented Programming)"
   ]
  },
  {
   "cell_type": "markdown",
   "metadata": {},
   "source": [
    "Q1. Write a Python program that create a class tringle and define two methods, create_triangle() and print_sides()."
   ]
  },
  {
   "cell_type": "code",
   "execution_count": 7,
   "metadata": {},
   "outputs": [
    {
     "name": "stdout",
     "output_type": "stream",
     "text": [
      "Enter the first side:3\n",
      "Enter the second side:4\n",
      "Enter the third side:5\n",
      "First side of the triangle is 3\n",
      "Second side of the triangle is 4\n",
      "Third side of the triangle is 5\n",
      "The triangle is right-angled triangle.\n"
     ]
    }
   ],
   "source": [
    "class triangle():\n",
    "    def __init__(self):\n",
    "        self.a = 0\n",
    "        self.b = 0\n",
    "        self.c = 0\n",
    "    def create_triangle(self):\n",
    "        self.a=int(input(\"Enter the first side:\"))\n",
    "        self.b=int(input(\"Enter the second side:\"))\n",
    "        self.c=int(input(\"Enter the third side:\"))\n",
    "    def print_sides(self):\n",
    "        print(\"First side of the triangle is\",self.a)\n",
    "        print(\"Second side of the triangle is\",self.b)\n",
    "        print(\"Third side of the triangle is\",self.c)\n",
    "        x,y,z=(self.a)**2+(self.b)**2,(self.a)**2+(self.c)**2,(self.b)**2+(self.c)**2\n",
    "        p,q,r=(self.a)**2,(self.b)**2,(self.c)**2\n",
    "        if self.a==self.b==self.c:\n",
    "            print(\"The triangle is equilateral.\")\n",
    "        elif self.a==self.b or self.a==self.c or self.b==self.c:\n",
    "            print(\"The triangle is isosceles.\")\n",
    "        elif x==r or y==q or z==p:\n",
    "            print(\"The triangle is right-angled triangle.\")\n",
    "        else:\n",
    "            print(\"The triangle is scalan.\")\n",
    "t=triangle()\n",
    "t.create_triangle()\n",
    "t.print_sides()"
   ]
  },
  {
   "cell_type": "markdown",
   "metadata": {},
   "source": [
    "Q2. Write a Python program to create a class with two methods get_String() and print_String()."
   ]
  },
  {
   "cell_type": "code",
   "execution_count": 1,
   "metadata": {},
   "outputs": [
    {
     "name": "stdout",
     "output_type": "stream",
     "text": [
      "Enter a string:python\n",
      "You entered :  python\n"
     ]
    }
   ],
   "source": [
    "class string():\n",
    "    def __init__(self):\n",
    "        self.s = \"\"\n",
    "    def get_String(self):\n",
    "        self.s=input(\"Enter a string:\")\n",
    "    def print_String(self):\n",
    "        print(\"You entered : \",self.s)\n",
    "s = string()\n",
    "s.get_String()\n",
    "s.print_String()"
   ]
  },
  {
   "cell_type": "markdown",
   "metadata": {},
   "source": [
    "Q3. Write a Python program to create a class Rectangle that takes the parameter length and width. The class should also contain a method for computing its perimeter."
   ]
  },
  {
   "cell_type": "code",
   "execution_count": 2,
   "metadata": {},
   "outputs": [
    {
     "name": "stdout",
     "output_type": "stream",
     "text": [
      "44\n"
     ]
    }
   ],
   "source": [
    "class rectangle():\n",
    "    def __init__(self,l,w):\n",
    "        self.length=l\n",
    "        self.width=w\n",
    "    def perimeter(self):\n",
    "        return 2*(self.length+self.width)\n",
    "new_rectangle=rectangle(12,10)\n",
    "print(new_rectangle.perimeter())"
   ]
  },
  {
   "cell_type": "markdown",
   "metadata": {},
   "source": [
    "Q4. Write a Python program to create a class Circle that takes the parameter radius. The class should also contain two methods for computing its area & perimeter respectively. Use constructor to implement initialization of parameters"
   ]
  },
  {
   "cell_type": "code",
   "execution_count": 6,
   "metadata": {},
   "outputs": [
    {
     "name": "stdout",
     "output_type": "stream",
     "text": [
      "Area of the given circle is:  28.259999999999998\n",
      "Perimeter of the given circle is:  18.84\n"
     ]
    }
   ],
   "source": [
    "class circle():\n",
    "    def __init__(self,r):\n",
    "        self.radius=r\n",
    "    def area(self):\n",
    "        return 3.14*self.radius*self.radius\n",
    "    def perimeter(self):\n",
    "        return 2*3.14*self.radius\n",
    "new_circle=circle(3)\n",
    "print(\"Area of the given circle is: \",new_circle.area())\n",
    "print(\"Perimeter of the given circle is: \",new_circle.perimeter())"
   ]
  },
  {
   "cell_type": "markdown",
   "metadata": {},
   "source": [
    "Q5. Create a Circle class and initialize it with radius. Make two methods getArea and getCircumference inside this class."
   ]
  },
  {
   "cell_type": "code",
   "execution_count": 5,
   "metadata": {},
   "outputs": [
    {
     "name": "stdout",
     "output_type": "stream",
     "text": [
      "Area of the given circle is:  28.259999999999998\n",
      "Circumference of the given circle is:  18.84\n"
     ]
    }
   ],
   "source": [
    "class circle():\n",
    "    def __init__(self,r):\n",
    "        self.radius=r\n",
    "    def area(self):\n",
    "        return 3.14*self.radius*self.radius\n",
    "    def circumference(self):\n",
    "        return 2*3.14*self.radius\n",
    "new_circle=circle(3)\n",
    "print (\"Area of the given circle is: \",new_circle.area())\n",
    "print (\"Circumference of the given circle is: \",new_circle.circumference())"
   ]
  },
  {
   "cell_type": "markdown",
   "metadata": {},
   "source": [
    "Q6. Create a Temperature class. Make two methods:\n",
    "\n"
   ]
  },
  {
   "cell_type": "markdown",
   "metadata": {},
   "source": [
    "a)\tconvertFahrenheit - It will take Celsius and will print it into Fahrenheit."
   ]
  },
  {
   "cell_type": "markdown",
   "metadata": {},
   "source": [
    "b)\tconvertCelsius - It will take Fahrenheit and will convert it into Celsius."
   ]
  },
  {
   "cell_type": "code",
   "execution_count": 4,
   "metadata": {},
   "outputs": [
    {
     "name": "stdout",
     "output_type": "stream",
     "text": [
      "Press 1 to convert Fahernheit to Celsius\n",
      "Press 2 to convert Celsius to Fahrenheit\n",
      "Enter your choice:1\n",
      "\n",
      "Fahrenheit to Celsius:\n",
      "Enter temprature:98.6\n",
      "Temprature in Celsius is: 37.0\n"
     ]
    }
   ],
   "source": [
    "class temprature():\n",
    "    def __init__(self,t):\n",
    "        self.temp=t\n",
    "    def fahrenheit_celsius(self):\n",
    "        return (self.temp - 32)*5/9\n",
    "    def celsius_fahrenheit(self):\n",
    "        return (self.temp * 9/5)+32\n",
    "print (\"Press 1 to convert Fahernheit to Celsius\")\n",
    "print (\"Press 2 to convert Celsius to Fahrenheit\")\n",
    "c=int(input(\"Enter your choice:\"))\n",
    "if c==1:\n",
    "    print(\"\")\n",
    "    print (\"Fahrenheit to Celsius:\")\n",
    "    temp=float(input(\"Enter temprature:\"))\n",
    "    Temprature=temprature(temp)\n",
    "    print (\"Temprature in Celsius is:\",Temprature.fahrenheit_celsius())\n",
    "else:\n",
    "    print(\"\")\n",
    "    print (\"Celsius to Fahrenheit:\")\n",
    "    temp=float(input(\"Enter temprature:\"))\n",
    "    Temprature=temprature(temp)\n",
    "    print (\"Temprature in Fahrenheit is:\",Temprature.celsius_fahrenheit())"
   ]
  },
  {
   "cell_type": "markdown",
   "metadata": {},
   "source": [
    "Q7. Create a Student class and initialize it with name and roll number. Make methods to:\n"
   ]
  },
  {
   "cell_type": "markdown",
   "metadata": {},
   "source": [
    "1. Display - It should display all information’s of the student."
   ]
  },
  {
   "cell_type": "markdown",
   "metadata": {},
   "source": [
    "2. setAge - It should assign age to student"
   ]
  },
  {
   "cell_type": "markdown",
   "metadata": {},
   "source": [
    "3. setMarks - It should assign marks to the student."
   ]
  },
  {
   "cell_type": "code",
   "execution_count": 10,
   "metadata": {},
   "outputs": [
    {
     "name": "stdout",
     "output_type": "stream",
     "text": [
      "Enter age : 18\n",
      "Enter marks : 97\n",
      "Enter age : 19\n",
      "Enter marks : 85\n",
      "Roll_no. :  11   Name :  Akshay   Age :  18   Marks :  97\n",
      "Roll_no. :  21   Name :  Manoj   Age :  19   Marks :  85\n"
     ]
    }
   ],
   "source": [
    "class student:\n",
    "    def __init__(self, roll,name): \n",
    "        self.roll=roll\n",
    "        self.name=name\n",
    "    def display(self):\n",
    "        print(\"Roll_no. : \",self.roll,\"  Name : \",self.name,\"  Age : \",self.age,\"  Marks : \",self.marks)\n",
    "    def setAge(self): \n",
    "        self.age=int(input(\"Enter age : \"))\n",
    "    def setMarks(self):\n",
    "        self.marks=int(input(\"Enter marks : \"))\n",
    "s1=student(11,\"Akshay\") \n",
    "s2=student(21,\"Manoj\")\n",
    "s1.setAge()\n",
    "s1.setMarks()\n",
    "s2.setAge()\n",
    "s2.setMarks()\n",
    "s1.display()\n",
    "s2.display()        "
   ]
  },
  {
   "cell_type": "markdown",
   "metadata": {},
   "source": [
    "Q8. Write a Python class to reverse a string word by word."
   ]
  },
  {
   "cell_type": "code",
   "execution_count": 3,
   "metadata": {},
   "outputs": [
    {
     "name": "stdout",
     "output_type": "stream",
     "text": [
      "Enter a string:python\n",
      "nohtyp"
     ]
    }
   ],
   "source": [
    "class reverse():\n",
    "    def __init__(self,s):\n",
    "        self.s=s\n",
    "    def reverse_string(self):\n",
    "        for i in range(len(s)-1,-1,-1):\n",
    "            print(s[i],end=\"\")\n",
    "s=input(\"Enter a string:\")\n",
    "string=reverse(s)\n",
    "string.reverse_string()"
   ]
  }
 ],
 "metadata": {
  "kernelspec": {
   "display_name": "Python 3",
   "language": "python",
   "name": "python3"
  },
  "language_info": {
   "codemirror_mode": {
    "name": "ipython",
    "version": 3
   },
   "file_extension": ".py",
   "mimetype": "text/x-python",
   "name": "python",
   "nbconvert_exporter": "python",
   "pygments_lexer": "ipython3",
   "version": "3.8.5"
  }
 },
 "nbformat": 4,
 "nbformat_minor": 4
}
