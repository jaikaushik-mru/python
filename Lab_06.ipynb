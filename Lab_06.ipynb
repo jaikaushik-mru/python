{
 "cells": [
  {
   "cell_type": "markdown",
   "metadata": {},
   "source": [
    "### Lab-06  Operation on Dictionary and Sets : Hands on practice"
   ]
  },
  {
   "cell_type": "markdown",
   "metadata": {},
   "source": [
    "### Dictionary"
   ]
  },
  {
   "cell_type": "markdown",
   "metadata": {},
   "source": [
    "Q1. Create an empty dictionary."
   ]
  },
  {
   "cell_type": "code",
   "execution_count": 2,
   "metadata": {},
   "outputs": [
    {
     "name": "stdout",
     "output_type": "stream",
     "text": [
      "{}\n"
     ]
    }
   ],
   "source": [
    "d={}\n",
    "print(d)"
   ]
  },
  {
   "cell_type": "markdown",
   "metadata": {},
   "source": [
    "Q2. Create the following dictionary \n",
    "   Key\tvalue\n",
    "a.\tA\t10\n",
    "b.\tB\t20\n"
   ]
  },
  {
   "cell_type": "code",
   "execution_count": 6,
   "metadata": {},
   "outputs": [
    {
     "name": "stdout",
     "output_type": "stream",
     "text": [
      "{'A': 10, 'B': 20}\n"
     ]
    }
   ],
   "source": [
    "d={'A':10,'B':20}\n",
    "print(d)"
   ]
  },
  {
   "cell_type": "markdown",
   "metadata": {},
   "source": [
    "Q3. Create a dictionary with different datatypes for keys"
   ]
  },
  {
   "cell_type": "code",
   "execution_count": 7,
   "metadata": {},
   "outputs": [
    {
     "name": "stdout",
     "output_type": "stream",
     "text": [
      "{'A': 1, 12: 1, True: 3, 12.1: 4}\n"
     ]
    }
   ],
   "source": [
    "d={'A':1,12:1,True:3,12.1:4}\n",
    "print(d)"
   ]
  },
  {
   "cell_type": "markdown",
   "metadata": {},
   "source": [
    "Q4. Print all the items of a dictionary"
   ]
  },
  {
   "cell_type": "code",
   "execution_count": 12,
   "metadata": {},
   "outputs": [
    {
     "name": "stdout",
     "output_type": "stream",
     "text": [
      "dict_items([('A', 1), (12, 2), (True, 3), (12.1, 4)])\n"
     ]
    }
   ],
   "source": [
    "d={'A':1,12:2,True:3,12.1:4}\n",
    "print(d.items())"
   ]
  },
  {
   "cell_type": "markdown",
   "metadata": {},
   "source": [
    "Q5. Delete an element of a dictionary"
   ]
  },
  {
   "cell_type": "code",
   "execution_count": 18,
   "metadata": {},
   "outputs": [
    {
     "name": "stdout",
     "output_type": "stream",
     "text": [
      "{12: 2, True: 3, 12.1: 4}\n"
     ]
    }
   ],
   "source": [
    "d={'A':1,12:2,True:3,12.1:4}\n",
    "d.pop('A')\n",
    "print(d)"
   ]
  },
  {
   "cell_type": "markdown",
   "metadata": {},
   "source": [
    "Q6. Delete full dictionary"
   ]
  },
  {
   "cell_type": "code",
   "execution_count": 19,
   "metadata": {},
   "outputs": [
    {
     "name": "stdout",
     "output_type": "stream",
     "text": [
      "{}\n"
     ]
    }
   ],
   "source": [
    "d={'A':1,12:2,True:3,12.1:4}\n",
    "d.clear()\n",
    "print(d)"
   ]
  },
  {
   "cell_type": "markdown",
   "metadata": {},
   "source": [
    "Q7. Print a value for a key "
   ]
  },
  {
   "cell_type": "code",
   "execution_count": 20,
   "metadata": {},
   "outputs": [
    {
     "name": "stdout",
     "output_type": "stream",
     "text": [
      "3\n"
     ]
    }
   ],
   "source": [
    "d={'A':1,12:2,True:3,12.1:4}\n",
    "print(d[True])"
   ]
  },
  {
   "cell_type": "markdown",
   "metadata": {},
   "source": [
    "Q8. To check if a key id present in a dictionary"
   ]
  },
  {
   "cell_type": "code",
   "execution_count": 27,
   "metadata": {},
   "outputs": [
    {
     "name": "stdout",
     "output_type": "stream",
     "text": [
      "Enter the key:4\n",
      "Enter the value:Banana\n",
      "Entered Key Value pair is present in dictionary.\n"
     ]
    }
   ],
   "source": [
    "a=int(input(\"Enter the key:\"))\n",
    "b=input(\"Enter the value:\")\n",
    "d={1:'Apple',2:'Mango',3:'Guava',4:'Banana',5:'Papaya'}\n",
    "if (a in d.keys()) and (b in d.values()):\n",
    "    print(\"Entered Key Value pair is present in dictionary.\")\n",
    "else:\n",
    "    print(\"Entered key value pair is not present in dictionary.\")"
   ]
  },
  {
   "cell_type": "markdown",
   "metadata": {},
   "source": [
    "Q9. Update a value of a key"
   ]
  },
  {
   "cell_type": "code",
   "execution_count": 28,
   "metadata": {},
   "outputs": [
    {
     "name": "stdout",
     "output_type": "stream",
     "text": [
      "{1: 'Apple', 2: 'Mango', 3: 'Pomegranate', 4: 'Banana', 5: 'Papaya'}\n"
     ]
    }
   ],
   "source": [
    "d={1:'Apple',2:'Mango',3:'Guava',4:'Banana',5:'Papaya'}\n",
    "d[3]='Pomegranate'\n",
    "print(d)"
   ]
  },
  {
   "cell_type": "markdown",
   "metadata": {},
   "source": [
    "Q10. Add a new key value pair"
   ]
  },
  {
   "cell_type": "code",
   "execution_count": 34,
   "metadata": {},
   "outputs": [
    {
     "name": "stdout",
     "output_type": "stream",
     "text": [
      "Enter new key:6\n",
      "Enter new value:Litchi\n",
      "{1: 'Apple', 2: 'Mango', 3: 'Guava', 4: 'Banana', 5: 'Papaya', 6: 'Litchi'}\n"
     ]
    }
   ],
   "source": [
    "a=int(input(\"Enter new key:\"))\n",
    "b=input(\"Enter new value:\")\n",
    "d={1:'Apple',2:'Mango',3:'Guava',4:'Banana',5:'Papaya'}\n",
    "d[a]=b\n",
    "print(d)"
   ]
  },
  {
   "cell_type": "markdown",
   "metadata": {},
   "source": [
    "Q11. Print dictionary for keys{1,10} and values as square of keys"
   ]
  },
  {
   "cell_type": "code",
   "execution_count": 35,
   "metadata": {},
   "outputs": [
    {
     "name": "stdout",
     "output_type": "stream",
     "text": [
      "{1: 1, 10: 100}\n"
     ]
    }
   ],
   "source": [
    "d={}\n",
    "d[1]=1*1\n",
    "d[10]=10*10\n",
    "print(d)"
   ]
  },
  {
   "cell_type": "markdown",
   "metadata": {},
   "source": [
    "Q12. Print nested dictionary"
   ]
  },
  {
   "cell_type": "code",
   "execution_count": 40,
   "metadata": {},
   "outputs": [
    {
     "name": "stdout",
     "output_type": "stream",
     "text": [
      "{1: {4: 'j', 5: 'k'}, 3: 'f'}\n"
     ]
    }
   ],
   "source": [
    "d={1:{4:'j',5:'k'},3:'f'}\n",
    "print(d)"
   ]
  },
  {
   "cell_type": "markdown",
   "metadata": {},
   "source": [
    "Q13. Concatenate three dictionaries.\n"
   ]
  },
  {
   "cell_type": "code",
   "execution_count": 44,
   "metadata": {},
   "outputs": [
    {
     "name": "stdout",
     "output_type": "stream",
     "text": [
      "{1: 10, 2: 20, 3: 30, 4: 40, 5: 50, 6: 60}\n"
     ]
    }
   ],
   "source": [
    "d={}\n",
    "dic1={1:10, 2:20}\n",
    "dic2={3:30, 4:40}\n",
    "dic3={5:50,6:60}\n",
    "for i in (dic1,dic2,dic3):\n",
    "    d.update(i)\n",
    "print(d)"
   ]
  },
  {
   "cell_type": "markdown",
   "metadata": {},
   "source": [
    "Q14. Sum all the values of a dictionary"
   ]
  },
  {
   "cell_type": "code",
   "execution_count": 45,
   "metadata": {},
   "outputs": [
    {
     "name": "stdout",
     "output_type": "stream",
     "text": [
      "Sum of the values of given dictionary is  56\n"
     ]
    }
   ],
   "source": [
    "d={1:12,2:32,3:4,4:8}\n",
    "s=0\n",
    "for i in d.values():\n",
    "    s=s+i\n",
    "print(\"Sum of the values of given dictionary is \",s)"
   ]
  },
  {
   "cell_type": "markdown",
   "metadata": {},
   "source": [
    "Q15. Accessing an element of a nested dictionary"
   ]
  },
  {
   "cell_type": "code",
   "execution_count": 46,
   "metadata": {},
   "outputs": [
    {
     "name": "stdout",
     "output_type": "stream",
     "text": [
      "k\n"
     ]
    }
   ],
   "source": [
    "d={1:{4:'j',5:'k'},3:'f'}\n",
    "print(d[1][5])"
   ]
  },
  {
   "cell_type": "markdown",
   "metadata": {},
   "source": [
    "Q16.\tWrite a Python script to print a dictionary where the keys are numbers between 1 and 15 (both included) and the values are square of keys."
   ]
  },
  {
   "cell_type": "code",
   "execution_count": 47,
   "metadata": {},
   "outputs": [
    {
     "name": "stdout",
     "output_type": "stream",
     "text": [
      "{1: 1, 2: 4, 3: 9, 4: 16, 5: 25, 6: 36, 7: 49, 8: 64, 9: 81, 10: 100, 11: 121, 12: 144, 13: 169, 14: 196, 15: 225}\n"
     ]
    }
   ],
   "source": [
    "d={}\n",
    "for i in range(1,16):\n",
    "    d[i]=i*i\n",
    "print(d)"
   ]
  },
  {
   "cell_type": "markdown",
   "metadata": {},
   "source": [
    "Q17. Insert factorial of keys in values. And print dictionary"
   ]
  },
  {
   "cell_type": "code",
   "execution_count": 38,
   "metadata": {},
   "outputs": [
    {
     "name": "stdout",
     "output_type": "stream",
     "text": [
      "{1: 1, 2: 2, 3: 6, 4: 24, 5: 120, 6: 720}\n"
     ]
    }
   ],
   "source": [
    "d={}\n",
    "def fact(i):\n",
    "    f=1\n",
    "    for j in range(1,i+1):\n",
    "        f=f*j\n",
    "    return f\n",
    "for i in range(1,7):\n",
    "    f=fact(i)\n",
    "    d[i]=f\n",
    "print(d)"
   ]
  },
  {
   "cell_type": "markdown",
   "metadata": {},
   "source": [
    "### Sets"
   ]
  },
  {
   "cell_type": "markdown",
   "metadata": {},
   "source": [
    "Q1. Write a program to create a set."
   ]
  },
  {
   "cell_type": "code",
   "execution_count": 1,
   "metadata": {},
   "outputs": [
    {
     "name": "stdout",
     "output_type": "stream",
     "text": [
      "Set is {1, 2, 3, 'a', 'c', 'python'}\n"
     ]
    }
   ],
   "source": [
    "s={1,2,3,\"a\",'c','python'}\n",
    "print(\"Set is\",s)"
   ]
  },
  {
   "cell_type": "markdown",
   "metadata": {},
   "source": [
    "Q2. Write a program to add an element to set."
   ]
  },
  {
   "cell_type": "code",
   "execution_count": 3,
   "metadata": {},
   "outputs": [
    {
     "name": "stdout",
     "output_type": "stream",
     "text": [
      "{1, 2, 3, 'a', 'c', 'python', 'programming'}\n"
     ]
    }
   ],
   "source": [
    "s={1,2,3,\"a\",'c','python'}\n",
    "s.add(\"programming\")\n",
    "print(s)"
   ]
  },
  {
   "cell_type": "markdown",
   "metadata": {},
   "source": [
    "Q3. Write a program to add multiple items using update function."
   ]
  },
  {
   "cell_type": "code",
   "execution_count": 4,
   "metadata": {},
   "outputs": [
    {
     "name": "stdout",
     "output_type": "stream",
     "text": [
      "{1, 2, 3, 'a', 'c', 'learning', 'python', 'programming'}\n"
     ]
    }
   ],
   "source": [
    "s={1,2,3,\"a\",'c'}\n",
    "s1={'learning','programming','python'}\n",
    "s.update(s1)\n",
    "print(s)"
   ]
  },
  {
   "cell_type": "markdown",
   "metadata": {},
   "source": [
    "Q4. Write a program to find the length of the set."
   ]
  },
  {
   "cell_type": "code",
   "execution_count": 6,
   "metadata": {},
   "outputs": [
    {
     "name": "stdout",
     "output_type": "stream",
     "text": [
      "8\n"
     ]
    }
   ],
   "source": [
    "s={1, 2, 3, 'a', 'c', 'learning', 'python', 'programming'}\n",
    "print(len(s))"
   ]
  },
  {
   "cell_type": "markdown",
   "metadata": {},
   "source": [
    "Q5. Write a program to remove a value from a set."
   ]
  },
  {
   "cell_type": "code",
   "execution_count": 7,
   "metadata": {},
   "outputs": [
    {
     "name": "stdout",
     "output_type": "stream",
     "text": [
      "{1, 2, 3, 'a', 'c', 'python', 'programming'}\n"
     ]
    }
   ],
   "source": [
    "s={1, 2, 3, 'a', 'c', 'learning', 'python', 'programming'}\n",
    "s.remove('learning')\n",
    "print(s)"
   ]
  },
  {
   "cell_type": "markdown",
   "metadata": {},
   "source": [
    "Q6. Write a program to pop an element from a set."
   ]
  },
  {
   "cell_type": "code",
   "execution_count": 9,
   "metadata": {},
   "outputs": [
    {
     "name": "stdout",
     "output_type": "stream",
     "text": [
      "{2, 3, 'a', 'c', 'learning', 'python', 'programming'}\n"
     ]
    }
   ],
   "source": [
    "s={1, 2, 3, 'a', 'c', 'learning', 'python', 'programming'}\n",
    "s.pop()\n",
    "print(s)"
   ]
  },
  {
   "cell_type": "markdown",
   "metadata": {},
   "source": [
    "Q7. Write a program to update a set."
   ]
  },
  {
   "cell_type": "code",
   "execution_count": 11,
   "metadata": {},
   "outputs": [
    {
     "name": "stdout",
     "output_type": "stream",
     "text": [
      "{1, 2, 3, 'a', 'c', 'learning', 'python', 'programming'}\n"
     ]
    }
   ],
   "source": [
    "s={1,2,3,\"a\",'c'}\n",
    "s1={'learning','python','programming'}\n",
    "s.update(s1)\n",
    "print(s)"
   ]
  },
  {
   "cell_type": "markdown",
   "metadata": {},
   "source": [
    "Q8. Write a Python program to create an intersection of sets."
   ]
  },
  {
   "cell_type": "code",
   "execution_count": 12,
   "metadata": {},
   "outputs": [
    {
     "name": "stdout",
     "output_type": "stream",
     "text": [
      "{'a', 2}\n"
     ]
    }
   ],
   "source": [
    "s={1,2,3,\"a\",'c'}\n",
    "s1={'learning','python','programming','a',2}\n",
    "i=s & s1\n",
    "print(i)"
   ]
  },
  {
   "cell_type": "markdown",
   "metadata": {},
   "source": [
    "Q9. Write a Python program to create a union of sets."
   ]
  },
  {
   "cell_type": "code",
   "execution_count": 14,
   "metadata": {},
   "outputs": [
    {
     "name": "stdout",
     "output_type": "stream",
     "text": [
      "{1, 2, 3, 'a', 'c', 'learning', 'python', 'programming'}\n"
     ]
    }
   ],
   "source": [
    "s={1,2,3,\"a\",'c'}\n",
    "s1={'learning','python','programming','a',2}\n",
    "r=s.union(s1)\n",
    "print(r)"
   ]
  },
  {
   "cell_type": "markdown",
   "metadata": {},
   "source": [
    "Q10. Write a Python program to clear a set."
   ]
  },
  {
   "cell_type": "code",
   "execution_count": 15,
   "metadata": {},
   "outputs": [
    {
     "name": "stdout",
     "output_type": "stream",
     "text": [
      "set()\n"
     ]
    }
   ],
   "source": [
    "s1={'learning','python','programming','a',2}\n",
    "s1.clear()\n",
    "print(s1)"
   ]
  },
  {
   "cell_type": "markdown",
   "metadata": {},
   "source": [
    "Q11. Write a Python program to issubset and issuperset."
   ]
  },
  {
   "cell_type": "code",
   "execution_count": 18,
   "metadata": {},
   "outputs": [
    {
     "name": "stdout",
     "output_type": "stream",
     "text": [
      "True\n",
      "True\n"
     ]
    }
   ],
   "source": [
    "s={1,2,3,\"a\",'c'}\n",
    "s1={'a',2}\n",
    "print(s1.issubset(s))\n",
    "print(s.issuperset(s1))"
   ]
  },
  {
   "cell_type": "markdown",
   "metadata": {},
   "source": [
    "Q12. Write a Python program to create set difference."
   ]
  },
  {
   "cell_type": "code",
   "execution_count": 22,
   "metadata": {},
   "outputs": [
    {
     "name": "stdout",
     "output_type": "stream",
     "text": [
      "{'c', 1, 3}\n"
     ]
    }
   ],
   "source": [
    "s={1,2,3,\"a\",'c'}\n",
    "s1={'a',2}\n",
    "r=s-s1\n",
    "print(r)"
   ]
  },
  {
   "cell_type": "markdown",
   "metadata": {},
   "source": [
    "Q13. Write a Python program to create a symmetric difference."
   ]
  },
  {
   "cell_type": "code",
   "execution_count": 23,
   "metadata": {},
   "outputs": [
    {
     "name": "stdout",
     "output_type": "stream",
     "text": [
      "{'b', 'a', 'e'}\n",
      "{'b', 'a', 'e'}\n"
     ]
    }
   ],
   "source": [
    "s={'a', 'b', 'c', 'd'}\n",
    "s1={'c', 'd', 'e' }\n",
    "print(s.symmetric_difference(s1))\n",
    "print(s1.symmetric_difference(s))"
   ]
  },
  {
   "cell_type": "code",
   "execution_count": null,
   "metadata": {},
   "outputs": [],
   "source": []
  }
 ],
 "metadata": {
  "kernelspec": {
   "display_name": "Python 3",
   "language": "python",
   "name": "python3"
  },
  "language_info": {
   "codemirror_mode": {
    "name": "ipython",
    "version": 3
   },
   "file_extension": ".py",
   "mimetype": "text/x-python",
   "name": "python",
   "nbconvert_exporter": "python",
   "pygments_lexer": "ipython3",
   "version": "3.8.5"
  }
 },
 "nbformat": 4,
 "nbformat_minor": 4
}
