{
 "cells": [
  {
   "cell_type": "markdown",
   "metadata": {},
   "source": [
    "### Lab-06  Operation on Dictionary and Sets : Hands on practice"
   ]
  },
  {
   "cell_type": "markdown",
   "metadata": {},
   "source": [
    "1. Create an empty dictionary."
   ]
  },
  {
   "cell_type": "code",
   "execution_count": 2,
   "metadata": {},
   "outputs": [
    {
     "name": "stdout",
     "output_type": "stream",
     "text": [
      "{}\n"
     ]
    }
   ],
   "source": [
    "d={}\n",
    "print(d)"
   ]
  },
  {
   "cell_type": "markdown",
   "metadata": {},
   "source": [
    "2. Create the following dictionary \n",
    "   Key\tvalue\n",
    "a.\tA\t10\n",
    "b.\tB\t20\n"
   ]
  },
  {
   "cell_type": "code",
   "execution_count": 6,
   "metadata": {},
   "outputs": [
    {
     "name": "stdout",
     "output_type": "stream",
     "text": [
      "{'A': 10, 'B': 20}\n"
     ]
    }
   ],
   "source": [
    "d={'A':10,'B':20}\n",
    "print(d)"
   ]
  },
  {
   "cell_type": "markdown",
   "metadata": {},
   "source": [
    "3. Create a dictionary with different datatypes for keys"
   ]
  },
  {
   "cell_type": "code",
   "execution_count": 7,
   "metadata": {},
   "outputs": [
    {
     "name": "stdout",
     "output_type": "stream",
     "text": [
      "{'A': 1, 12: 1, True: 3, 12.1: 4}\n"
     ]
    }
   ],
   "source": [
    "d={'A':1,12:1,True:3,12.1:4}\n",
    "print(d)"
   ]
  },
  {
   "cell_type": "markdown",
   "metadata": {},
   "source": [
    "4. Print all the items of a dictionary"
   ]
  },
  {
   "cell_type": "code",
   "execution_count": 12,
   "metadata": {},
   "outputs": [
    {
     "name": "stdout",
     "output_type": "stream",
     "text": [
      "dict_items([('A', 1), (12, 2), (True, 3), (12.1, 4)])\n"
     ]
    }
   ],
   "source": [
    "d={'A':1,12:2,True:3,12.1:4}\n",
    "print(d.items())"
   ]
  },
  {
   "cell_type": "markdown",
   "metadata": {},
   "source": [
    "5. Delete an element of a dictionary"
   ]
  },
  {
   "cell_type": "code",
   "execution_count": 18,
   "metadata": {},
   "outputs": [
    {
     "name": "stdout",
     "output_type": "stream",
     "text": [
      "{12: 2, True: 3, 12.1: 4}\n"
     ]
    }
   ],
   "source": [
    "d={'A':1,12:2,True:3,12.1:4}\n",
    "d.pop('A')\n",
    "print(d)"
   ]
  },
  {
   "cell_type": "markdown",
   "metadata": {},
   "source": [
    "6. Delete full dictionary"
   ]
  },
  {
   "cell_type": "code",
   "execution_count": 19,
   "metadata": {},
   "outputs": [
    {
     "name": "stdout",
     "output_type": "stream",
     "text": [
      "{}\n"
     ]
    }
   ],
   "source": [
    "d={'A':1,12:2,True:3,12.1:4}\n",
    "d.clear()\n",
    "print(d)"
   ]
  },
  {
   "cell_type": "markdown",
   "metadata": {},
   "source": [
    "7. Print a value for a key "
   ]
  },
  {
   "cell_type": "code",
   "execution_count": 20,
   "metadata": {},
   "outputs": [
    {
     "name": "stdout",
     "output_type": "stream",
     "text": [
      "3\n"
     ]
    }
   ],
   "source": [
    "d={'A':1,12:2,True:3,12.1:4}\n",
    "print(d[True])"
   ]
  },
  {
   "cell_type": "markdown",
   "metadata": {},
   "source": [
    "8. To check if a key id present in a dictionary"
   ]
  },
  {
   "cell_type": "code",
   "execution_count": 27,
   "metadata": {},
   "outputs": [
    {
     "name": "stdout",
     "output_type": "stream",
     "text": [
      "Enter the key:4\n",
      "Enter the value:Banana\n",
      "Entered Key Value pair is present in dictionary.\n"
     ]
    }
   ],
   "source": [
    "a=int(input(\"Enter the key:\"))\n",
    "b=input(\"Enter the value:\")\n",
    "d={1:'Apple',2:'Mango',3:'Guava',4:'Banana',5:'Papaya'}\n",
    "if (a in d.keys()) and (b in d.values()):\n",
    "    print(\"Entered Key Value pair is present in dictionary.\")\n",
    "else:\n",
    "    print(\"Entered key value pair is not present in dictionary.\")"
   ]
  },
  {
   "cell_type": "markdown",
   "metadata": {},
   "source": [
    "9. Update a value of a key"
   ]
  },
  {
   "cell_type": "code",
   "execution_count": 28,
   "metadata": {},
   "outputs": [
    {
     "name": "stdout",
     "output_type": "stream",
     "text": [
      "{1: 'Apple', 2: 'Mango', 3: 'Pomegranate', 4: 'Banana', 5: 'Papaya'}\n"
     ]
    }
   ],
   "source": [
    "d={1:'Apple',2:'Mango',3:'Guava',4:'Banana',5:'Papaya'}\n",
    "d[3]='Pomegranate'\n",
    "print(d)"
   ]
  },
  {
   "cell_type": "markdown",
   "metadata": {},
   "source": [
    "10. Add a new key value pair"
   ]
  },
  {
   "cell_type": "code",
   "execution_count": 34,
   "metadata": {},
   "outputs": [
    {
     "name": "stdout",
     "output_type": "stream",
     "text": [
      "Enter new key:6\n",
      "Enter new value:Litchi\n",
      "{1: 'Apple', 2: 'Mango', 3: 'Guava', 4: 'Banana', 5: 'Papaya', 6: 'Litchi'}\n"
     ]
    }
   ],
   "source": [
    "a=int(input(\"Enter new key:\"))\n",
    "b=input(\"Enter new value:\")\n",
    "d={1:'Apple',2:'Mango',3:'Guava',4:'Banana',5:'Papaya'}\n",
    "d[a]=b\n",
    "print(d)"
   ]
  },
  {
   "cell_type": "markdown",
   "metadata": {},
   "source": [
    "11. Print dictionary for keys{1,10} and values as square of keys"
   ]
  },
  {
   "cell_type": "code",
   "execution_count": 35,
   "metadata": {},
   "outputs": [
    {
     "name": "stdout",
     "output_type": "stream",
     "text": [
      "{1: 1, 10: 100}\n"
     ]
    }
   ],
   "source": [
    "d={}\n",
    "d[1]=1*1\n",
    "d[10]=10*10\n",
    "print(d)"
   ]
  },
  {
   "cell_type": "markdown",
   "metadata": {},
   "source": [
    "12. Print nested dictionary"
   ]
  },
  {
   "cell_type": "code",
   "execution_count": 40,
   "metadata": {},
   "outputs": [
    {
     "name": "stdout",
     "output_type": "stream",
     "text": [
      "{1: {4: 'j', 5: 'k'}, 3: 'f'}\n"
     ]
    }
   ],
   "source": [
    "d={1:{4:'j',5:'k'},3:'f'}\n",
    "print(d)"
   ]
  },
  {
   "cell_type": "markdown",
   "metadata": {},
   "source": [
    "13. Concatenate three dictionaries.\n"
   ]
  },
  {
   "cell_type": "code",
   "execution_count": 44,
   "metadata": {},
   "outputs": [
    {
     "name": "stdout",
     "output_type": "stream",
     "text": [
      "{1: 10, 2: 20, 3: 30, 4: 40, 5: 50, 6: 60}\n"
     ]
    }
   ],
   "source": [
    "d={}\n",
    "dic1={1:10, 2:20}\n",
    "dic2={3:30, 4:40}\n",
    "dic3={5:50,6:60}\n",
    "for i in (dic1,dic2,dic3):\n",
    "    d.update(i)\n",
    "print(d)"
   ]
  },
  {
   "cell_type": "markdown",
   "metadata": {},
   "source": [
    "14. Sum all the values of a dictionary"
   ]
  },
  {
   "cell_type": "code",
   "execution_count": 45,
   "metadata": {},
   "outputs": [
    {
     "name": "stdout",
     "output_type": "stream",
     "text": [
      "Sum of the values of given dictionary is  56\n"
     ]
    }
   ],
   "source": [
    "d={1:12,2:32,3:4,4:8}\n",
    "s=0\n",
    "for i in d.values():\n",
    "    s=s+i\n",
    "print(\"Sum of the values of given dictionary is \",s)"
   ]
  },
  {
   "cell_type": "markdown",
   "metadata": {},
   "source": [
    "15. Accessing an element of a nested dictionary"
   ]
  },
  {
   "cell_type": "code",
   "execution_count": 46,
   "metadata": {},
   "outputs": [
    {
     "name": "stdout",
     "output_type": "stream",
     "text": [
      "k\n"
     ]
    }
   ],
   "source": [
    "d={1:{4:'j',5:'k'},3:'f'}\n",
    "print(d[1][5])"
   ]
  },
  {
   "cell_type": "markdown",
   "metadata": {},
   "source": [
    "16.\tWrite a Python script to print a dictionary where the keys are numbers between 1 and 15 (both included) and the values are square of keys."
   ]
  },
  {
   "cell_type": "code",
   "execution_count": 47,
   "metadata": {},
   "outputs": [
    {
     "name": "stdout",
     "output_type": "stream",
     "text": [
      "{1: 1, 2: 4, 3: 9, 4: 16, 5: 25, 6: 36, 7: 49, 8: 64, 9: 81, 10: 100, 11: 121, 12: 144, 13: 169, 14: 196, 15: 225}\n"
     ]
    }
   ],
   "source": [
    "d={}\n",
    "for i in range(1,16):\n",
    "    d[i]=i*i\n",
    "print(d)"
   ]
  },
  {
   "cell_type": "markdown",
   "metadata": {},
   "source": [
    "17. Insert factorial of keys in values. And print dictionary"
   ]
  },
  {
   "cell_type": "code",
   "execution_count": 38,
   "metadata": {},
   "outputs": [
    {
     "name": "stdout",
     "output_type": "stream",
     "text": [
      "{1: 1, 2: 2, 3: 6, 4: 24, 5: 120, 6: 720}\n"
     ]
    }
   ],
   "source": [
    "d={}\n",
    "def fact(i):\n",
    "    f=1\n",
    "    for j in range(1,i+1):\n",
    "        f=f*j\n",
    "    return f\n",
    "for i in range(1,7):\n",
    "    f=fact(i)\n",
    "    d[i]=f\n",
    "print(d)"
   ]
  }
 ],
 "metadata": {
  "kernelspec": {
   "display_name": "Python 3",
   "language": "python",
   "name": "python3"
  },
  "language_info": {
   "codemirror_mode": {
    "name": "ipython",
    "version": 3
   },
   "file_extension": ".py",
   "mimetype": "text/x-python",
   "name": "python",
   "nbconvert_exporter": "python",
   "pygments_lexer": "ipython3",
   "version": "3.8.5"
  }
 },
 "nbformat": 4,
 "nbformat_minor": 4
}
