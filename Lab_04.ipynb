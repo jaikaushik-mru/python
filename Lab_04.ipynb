{
 "cells": [
  {
   "cell_type": "markdown",
   "metadata": {},
   "source": [
    "### Lab - 04"
   ]
  },
  {
   "cell_type": "markdown",
   "metadata": {},
   "source": [
    "Q1. Write a python program to create a tuple."
   ]
  },
  {
   "cell_type": "code",
   "execution_count": 1,
   "metadata": {},
   "outputs": [
    {
     "name": "stdout",
     "output_type": "stream",
     "text": [
      "('I', 'a', 'm', 'l', 'e', 'a', 'r', 'n', 'i', 'n', 'g', 'p', 'y', 't', 'h', 'o', 'n')\n"
     ]
    }
   ],
   "source": [
    "a=\"Iamlearningpython\"\n",
    "b=tuple(a)\n",
    "print(b)"
   ]
  },
  {
   "cell_type": "markdown",
   "metadata": {},
   "source": [
    "Q2. Write a Python program to create a tuple with different data types.  "
   ]
  },
  {
   "cell_type": "code",
   "execution_count": 5,
   "metadata": {},
   "outputs": [
    {
     "name": "stdout",
     "output_type": "stream",
     "text": [
      "('a', 'b', 1, 1.325, True)\n"
     ]
    }
   ],
   "source": [
    "a=\"a\",\"b\",1,1.325,True\n",
    "print(a)"
   ]
  },
  {
   "cell_type": "markdown",
   "metadata": {},
   "source": [
    "Q3. Write a Python program to create a tuple with numbers and print one item.  "
   ]
  },
  {
   "cell_type": "code",
   "execution_count": 4,
   "metadata": {},
   "outputs": [
    {
     "name": "stdout",
     "output_type": "stream",
     "text": [
      "12\n"
     ]
    }
   ],
   "source": [
    "a=(1,32,456,76,12,54)\n",
    "print(a[4])"
   ]
  },
  {
   "cell_type": "markdown",
   "metadata": {},
   "source": [
    "Q4. Write a Python program to unpack a tuple in several variables."
   ]
  },
  {
   "cell_type": "code",
   "execution_count": 6,
   "metadata": {},
   "outputs": [
    {
     "name": "stdout",
     "output_type": "stream",
     "text": [
      "(21, 34, 54, 67)\n",
      "176\n"
     ]
    }
   ],
   "source": [
    "a=(21,34,54,67)\n",
    "print(a)\n",
    "b,c,d,e=a\n",
    "print(b+c+d+e)"
   ]
  },
  {
   "cell_type": "markdown",
   "metadata": {},
   "source": [
    "Q5. Write a Python program to add an item in a tuple.  "
   ]
  },
  {
   "cell_type": "code",
   "execution_count": 9,
   "metadata": {},
   "outputs": [
    {
     "name": "stdout",
     "output_type": "stream",
     "text": [
      "Enter the number to be appended:54\n",
      "(12, 43, 46, 76, 54)\n"
     ]
    }
   ],
   "source": [
    "t=(12,43,46,76)\n",
    "l=list(t)\n",
    "a=int(input(\"Enter the number to be appended:\"))\n",
    "l.append(a)\n",
    "print(tuple(l))"
   ]
  },
  {
   "cell_type": "markdown",
   "metadata": {},
   "source": [
    "Q6. Write a Python program to convert a tuple to a string.  "
   ]
  },
  {
   "cell_type": "code",
   "execution_count": 2,
   "metadata": {},
   "outputs": [
    {
     "name": "stdout",
     "output_type": "stream",
     "text": [
      "pythonprogram\n"
     ]
    }
   ],
   "source": [
    "a=('p','y','t','h','o','n','','p','r','o','g','r','a','m')\n",
    "str=''.join(a)\n",
    "print(str)"
   ]
  },
  {
   "cell_type": "markdown",
   "metadata": {},
   "source": [
    "Q7. Write a Python program to get the 4th element and 4th element from last of a tuple."
   ]
  },
  {
   "cell_type": "code",
   "execution_count": 3,
   "metadata": {},
   "outputs": [
    {
     "name": "stdout",
     "output_type": "stream",
     "text": [
      "4th element from starting :  24\n",
      "4th element from last :  2345\n"
     ]
    }
   ],
   "source": [
    "t=(12,134,43,24,53,2435,54,3456,7654,2345,6543,567,734)\n",
    "print(\"4th element from starting : \",t[3])\n",
    "print(\"4th element from last : \",t[-4])"
   ]
  },
  {
   "cell_type": "markdown",
   "metadata": {},
   "source": [
    "Q8. Write a Python program to create the colon of a tuple.  "
   ]
  },
  {
   "cell_type": "code",
   "execution_count": 12,
   "metadata": {},
   "outputs": [
    {
     "name": "stdout",
     "output_type": "stream",
     "text": [
      "('HELLO', 5, [], True)\n",
      "('HELLO', 5, [50], True)\n",
      "('HELLO', 5, [], True)\n"
     ]
    }
   ],
   "source": [
    "from copy import deepcopy\n",
    "tuplex = (\"HELLO\", 5, [], True) \n",
    "print(tuplex)\n",
    "tuplex_colon = deepcopy(tuplex)\n",
    "tuplex_colon[2].append(50)\n",
    "print(tuplex_colon)\n",
    "print(tuplex)"
   ]
  },
  {
   "cell_type": "markdown",
   "metadata": {},
   "source": [
    "Q9. Write a Python program to find the repeated items of a tuple.  "
   ]
  },
  {
   "cell_type": "code",
   "execution_count": 15,
   "metadata": {},
   "outputs": [
    {
     "name": "stdout",
     "output_type": "stream",
     "text": [
      "Enter a number to be counted:3\n",
      "3 is repeated 4 times in the tuple.\n"
     ]
    }
   ],
   "source": [
    "t=(1,2,3,3,2,3,4,5,6,2,1,3,10,10)\n",
    "a=int(input(\"Enter a number to be counted:\"))\n",
    "print(f\"{a} is repeated {t.count(a)} times in the tuple.\")"
   ]
  },
  {
   "cell_type": "markdown",
   "metadata": {},
   "source": [
    "Q10. Write a Python program to check whether an element exists within a tuple.  "
   ]
  },
  {
   "cell_type": "code",
   "execution_count": 22,
   "metadata": {},
   "outputs": [
    {
     "name": "stdout",
     "output_type": "stream",
     "text": [
      "Enter A Number:12345\n",
      "12345 is not present in tuple.\n"
     ]
    }
   ],
   "source": [
    "t=(12,234,43,657,342,123,43)\n",
    "a=int(input(\"Enter A Number:\"))\n",
    "b=a in t\n",
    "if b==True:\n",
    "    print(f\"{a} is present in tuple.\")\n",
    "else:\n",
    "    print(f\"{a} is not present in tuple.\")"
   ]
  },
  {
   "cell_type": "markdown",
   "metadata": {},
   "source": [
    "Q11. Write a Python program to convert a list to a tuple.  "
   ]
  },
  {
   "cell_type": "code",
   "execution_count": 4,
   "metadata": {},
   "outputs": [
    {
     "name": "stdout",
     "output_type": "stream",
     "text": [
      "Converted list to tuple :  (12, 435, 4, 5, 434, 54, 34)\n"
     ]
    }
   ],
   "source": [
    "l=[12,435,4,5,434,54,34]\n",
    "print(\"Converted list to tuple : \",tuple(l))"
   ]
  },
  {
   "cell_type": "markdown",
   "metadata": {},
   "source": [
    "Q12. Write a Python program to remove an item from a tuple.  "
   ]
  },
  {
   "cell_type": "code",
   "execution_count": 16,
   "metadata": {},
   "outputs": [
    {
     "name": "stdout",
     "output_type": "stream",
     "text": [
      "Enter element to be removed:32\n",
      "Updated tuple is :  (12, 345, 2, 6, 4, 23, 654)\n"
     ]
    }
   ],
   "source": [
    "t=(12,345,2,32,6,4,23,654)\n",
    "a=int(input(\"Enter element to be removed:\"))\n",
    "l=list(t)\n",
    "l.remove(a)\n",
    "print(\"Updated tuple is : \",tuple(l))"
   ]
  },
  {
   "cell_type": "markdown",
   "metadata": {},
   "source": [
    "Q13. Write a Python program to slice a tuple."
   ]
  },
  {
   "cell_type": "code",
   "execution_count": 1,
   "metadata": {},
   "outputs": [
    {
     "name": "stdout",
     "output_type": "stream",
     "text": [
      "(34, 456, 766)\n"
     ]
    }
   ],
   "source": [
    "a=(12,34,456,766,5234,65,3354)\n",
    "print(a[1:4])"
   ]
  },
  {
   "cell_type": "markdown",
   "metadata": {},
   "source": [
    "Q14. Write a Python program to find the index of an item of a tuple.  "
   ]
  },
  {
   "cell_type": "code",
   "execution_count": 4,
   "metadata": {},
   "outputs": [
    {
     "name": "stdout",
     "output_type": "stream",
     "text": [
      "Tuple is: (12, 43, 45, 6, 21, 211)\n",
      "Enter a number to find its index:45\n",
      "Indesx of 45 is : 2\n"
     ]
    }
   ],
   "source": [
    "t=(12,43,45,6,21,211)\n",
    "print(\"Tuple is:\",t)\n",
    "a=int(input(\"Enter a number to find its index:\"))\n",
    "count=-1\n",
    "for i in t:\n",
    "    count=count+1\n",
    "    if i==a:\n",
    "        break\n",
    "print (f\"Indesx of {a} is : {count}\")"
   ]
  },
  {
   "cell_type": "markdown",
   "metadata": {},
   "source": [
    "Q15. Write a Python program to find the length of a tuple.  "
   ]
  },
  {
   "cell_type": "code",
   "execution_count": 6,
   "metadata": {},
   "outputs": [
    {
     "name": "stdout",
     "output_type": "stream",
     "text": [
      "Length of the given tuple is :  8\n"
     ]
    }
   ],
   "source": [
    "a=(12,234,564,2345,564,31,2,5)\n",
    "count=0\n",
    "for i in a:\n",
    "    count=count+1\n",
    "print(\"Length of the given tuple is : \",count)"
   ]
  },
  {
   "cell_type": "markdown",
   "metadata": {},
   "source": [
    "Q16. Write a Python program to reverse a tuple."
   ]
  },
  {
   "cell_type": "code",
   "execution_count": 10,
   "metadata": {},
   "outputs": [
    {
     "name": "stdout",
     "output_type": "stream",
     "text": [
      "Reverse of the tuple is :  (345, 53, 345, 65, 2456, 43, 12)\n"
     ]
    }
   ],
   "source": [
    "t=(12,43,2456,65,345,53,345)\n",
    "print(\"Reverse of the tuple is : \",t[-1::-1])"
   ]
  }
 ],
 "metadata": {
  "kernelspec": {
   "display_name": "Python 3",
   "language": "python",
   "name": "python3"
  },
  "language_info": {
   "codemirror_mode": {
    "name": "ipython",
    "version": 3
   },
   "file_extension": ".py",
   "mimetype": "text/x-python",
   "name": "python",
   "nbconvert_exporter": "python",
   "pygments_lexer": "ipython3",
   "version": "3.8.5"
  }
 },
 "nbformat": 4,
 "nbformat_minor": 4
}
